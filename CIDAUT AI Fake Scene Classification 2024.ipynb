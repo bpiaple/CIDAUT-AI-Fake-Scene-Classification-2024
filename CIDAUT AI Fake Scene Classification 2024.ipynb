{
 "cells": [
  {
   "cell_type": "markdown",
   "metadata": {},
   "source": [
    "# CIDAUT AI Fake Scene Classification 2024"
   ]
  },
  {
   "cell_type": "markdown",
   "metadata": {},
   "source": [
    "---\n",
    "author: Brice Piaple Dada\n",
    "date: December 21, 2024\n",
    "---"
   ]
  },
  {
   "cell_type": "markdown",
   "metadata": {},
   "source": [
    "## Unzip the data"
   ]
  },
  {
   "cell_type": "code",
   "execution_count": 2,
   "metadata": {},
   "outputs": [
    {
     "name": "stdout",
     "output_type": "stream",
     "text": [
      "Extractiob Complete.\n"
     ]
    }
   ],
   "source": [
    "#| echo: true\n",
    "\n",
    "\n",
    "import zipfile\n",
    "\n",
    "# Path to the .zip file\n",
    "zip_file_path = 'Data/cidaut-ai-fake-scene-classification-2024.zip'\n",
    "\n",
    "# Path toi extract teh contents\n",
    "extract_path = 'Data/Unzip_data'\n",
    "\n",
    "# Open the .zip file\n",
    "with zipfile.ZipFile(zip_file_path, 'r') as zip:\n",
    "    zip.extractall(extract_path)\n",
    "    \n",
    "    print(\"Extractiob Complete.\")\n"
   ]
  },
  {
   "cell_type": "markdown",
   "metadata": {},
   "source": [
    "## Import our libraries"
   ]
  },
  {
   "cell_type": "code",
   "execution_count": 3,
   "metadata": {},
   "outputs": [
    {
     "name": "stderr",
     "output_type": "stream",
     "text": [
      "2024-12-24 10:03:27.420726: I tensorflow/core/util/port.cc:153] oneDNN custom operations are on. You may see slightly different numerical results due to floating-point round-off errors from different computation orders. To turn them off, set the environment variable `TF_ENABLE_ONEDNN_OPTS=0`.\n",
      "2024-12-24 10:03:27.430038: E external/local_xla/xla/stream_executor/cuda/cuda_fft.cc:477] Unable to register cuFFT factory: Attempting to register factory for plugin cuFFT when one has already been registered\n",
      "WARNING: All log messages before absl::InitializeLog() is called are written to STDERR\n",
      "E0000 00:00:1735052607.445922  463516 cuda_dnn.cc:8310] Unable to register cuDNN factory: Attempting to register factory for plugin cuDNN when one has already been registered\n",
      "E0000 00:00:1735052607.449117  463516 cuda_blas.cc:1418] Unable to register cuBLAS factory: Attempting to register factory for plugin cuBLAS when one has already been registered\n",
      "2024-12-24 10:03:27.464078: I tensorflow/core/platform/cpu_feature_guard.cc:210] This TensorFlow binary is optimized to use available CPU instructions in performance-critical operations.\n",
      "To enable the following instructions: AVX2 AVX_VNNI FMA, in other operations, rebuild TensorFlow with the appropriate compiler flags.\n"
     ]
    }
   ],
   "source": [
    "import tensorflow as tf\n",
    "import pandas as pd\n",
    "import numpy as np\n",
    "import os"
   ]
  },
  {
   "cell_type": "markdown",
   "metadata": {},
   "source": [
    "## Load our data"
   ]
  },
  {
   "cell_type": "markdown",
   "metadata": {},
   "source": [
    "###  Load our csv and images files"
   ]
  },
  {
   "cell_type": "code",
   "execution_count": 4,
   "metadata": {},
   "outputs": [],
   "source": [
    "def load_image(image_path) -> tf.Tensor:\n",
    "    \"\"\"Loads an image from the specified file path, decodes it as a JPEG, resizes it to 224x224 pixels,\n",
    "    and normalizes the pixel values to the range [0, 1].\n",
    "    \n",
    "    Args:\n",
    "        image_path (str): The file path to the image.\n",
    "\n",
    "    Returns:\n",
    "        tf.Tensor: A tensor representing the processed image.\n",
    "    \"\"\"\n",
    "    image = tf.io.read_file(image_path)\n",
    "    image = tf.image.decode_jpeg(image, channels=3)\n",
    "    image = tf.image.resize(image, [224, 224])\n",
    "    image = image / 255.0\n",
    "    return image\n"
   ]
  },
  {
   "cell_type": "code",
   "execution_count": 5,
   "metadata": {},
   "outputs": [],
   "source": [
    "images_dir = 'Data/Train'\n",
    "df = pd.read_csv('Data/Unzip_data/train.csv')\n",
    "\n",
    "def get_image_and_label(row):\n",
    "    image_path = os.path.join(images_dir, row['filename'])\n",
    "    image = load_image(image_path)\n",
    "    label = row['label']\n",
    "    return image, label"
   ]
  },
  {
   "cell_type": "code",
   "execution_count": null,
   "metadata": {},
   "outputs": [],
   "source": [
    "def get_image_and_label(row):\n",
    "    image_path = os.path.join(images_dir, row['filename'])\n",
    "    image = load_image(image_path)\n",
    "    label = row['label']"
   ]
  }
 ],
 "metadata": {
  "kernelspec": {
   "display_name": "Python 3",
   "language": "python",
   "name": "python3"
  },
  "language_info": {
   "codemirror_mode": {
    "name": "ipython",
    "version": 3
   },
   "file_extension": ".py",
   "mimetype": "text/x-python",
   "name": "python",
   "nbconvert_exporter": "python",
   "pygments_lexer": "ipython3",
   "version": "3.10.15"
  }
 },
 "nbformat": 4,
 "nbformat_minor": 2
}
