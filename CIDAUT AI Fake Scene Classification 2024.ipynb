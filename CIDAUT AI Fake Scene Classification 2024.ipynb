{
 "cells": [
  {
   "cell_type": "markdown",
   "metadata": {},
   "source": [
    "# CIDAUT AI Fake Scene Classification 2024"
   ]
  },
  {
   "cell_type": "markdown",
   "metadata": {},
   "source": [
    "---\n",
    "author: Brice Piaple Dada\n",
    "date: December 21, 2024\n",
    "---"
   ]
  },
  {
   "cell_type": "markdown",
   "metadata": {},
   "source": [
    "## Unzip the data"
   ]
  },
  {
   "cell_type": "code",
   "execution_count": null,
   "metadata": {},
   "outputs": [],
   "source": [
    "#| echo: true\n",
    "\n",
    "\n",
    "import zipfile\n",
    "\n",
    "# Path to the .zip file\n",
    "zip_file_path = 'Data/cidaut-ai-fake-scene-classification-2024.zip'\n",
    "\n",
    "# Path toi extract teh contents\n",
    "extract_path = 'Data/Unzip_data'\n",
    "\n",
    "# Open the .zip file\n",
    "with zipfile.ZipFile(zip_file_path, 'r') as zip:\n",
    "    zip.extractall(extract_path)\n",
    "    \n",
    "    print(\"Extractiob Complete.\")\n"
   ]
  },
  {
   "cell_type": "markdown",
   "metadata": {},
   "source": [
    "## Import our libraries"
   ]
  },
  {
   "cell_type": "code",
   "execution_count": null,
   "metadata": {},
   "outputs": [],
   "source": [
    "import tensorflow as tf\n",
    "import pandas as pd\n",
    "import numpy as np"
   ]
  },
  {
   "cell_type": "markdown",
   "metadata": {},
   "source": [
    "## Load our data"
   ]
  },
  {
   "cell_type": "markdown",
   "metadata": {},
   "source": [
    "###  Load our csv and images files"
   ]
  },
  {
   "cell_type": "code",
   "execution_count": 4,
   "metadata": {},
   "outputs": [],
   "source": [
    "def load_image(image_path) -> tf.Tensor:\n",
    "    \"\"\"Loads an image from the specified file path, decodes it as a JPEG, resizes it to 224x224 pixels,\n",
    "    and normalizes the pixel values to the range [0, 1].\n",
    "    \n",
    "    Args:\n",
    "        image_path (str): The file path to the image.\n",
    "\n",
    "    Returns:\n",
    "        tf.Tensor: A tensor representing the processed image.\n",
    "    \"\"\"\n",
    "    image = tf.io.read_file(image_path)\n",
    "    image = tf.image.decode_jpeg(image, channels=3)\n",
    "    image = tf.image.resize(image, [224, 224])\n",
    "    image = image / 255.0\n",
    "    return image\n"
   ]
  },
  {
   "cell_type": "code",
   "execution_count": null,
   "metadata": {},
   "outputs": [],
   "source": []
  }
 ],
 "metadata": {
  "kernelspec": {
   "display_name": "Python 3",
   "language": "python",
   "name": "python3"
  },
  "language_info": {
   "codemirror_mode": {
    "name": "ipython",
    "version": 3
   },
   "file_extension": ".py",
   "mimetype": "text/x-python",
   "name": "python",
   "nbconvert_exporter": "python",
   "pygments_lexer": "ipython3",
   "version": "3.10.15"
  }
 },
 "nbformat": 4,
 "nbformat_minor": 2
}
